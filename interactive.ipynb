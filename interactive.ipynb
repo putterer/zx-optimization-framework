{
 "cells": [
  {
   "cell_type": "markdown",
   "metadata": {},
   "source": [
    "### Rendering"
   ]
  },
  {
   "cell_type": "markdown",
   "metadata": {},
   "source": [
    "### Interactively"
   ]
  },
  {
   "cell_type": "code",
   "execution_count": null,
   "metadata": {
    "pycharm": {
     "name": "#%%\n",
     "is_executing": true
    }
   },
   "outputs": [],
   "source": [
    "from zxopt.visualization import Window\n",
    "\n",
    "window = Window()\n",
    "window.main_loop()\n"
   ]
  },
  {
   "cell_type": "markdown",
   "metadata": {
    "pycharm": {
     "name": "#%% md\n"
    }
   },
   "source": [
    "### OpenQASM"
   ]
  },
  {
   "cell_type": "code",
   "execution_count": 1,
   "outputs": [],
   "source": [
    "from zxopt.openqasm import OpenQasmParser\n",
    "\n",
    "parser = OpenQasmParser()\n",
    "circuit = parser.load_file(\"./circuits/bell_swap.qasm\")"
   ],
   "metadata": {
    "collapsed": false,
    "pycharm": {
     "name": "#%%\n"
    }
   }
  },
  {
   "cell_type": "markdown",
   "source": [
    "### ZX-diagram\n"
   ],
   "metadata": {
    "collapsed": false,
    "pycharm": {
     "name": "#%% md\n"
    }
   }
  },
  {
   "cell_type": "code",
   "execution_count": 2,
   "outputs": [
    {
     "name": "stderr",
     "output_type": "stream",
     "text": [
      "/usr/lib64/python3.9/site-packages/graph_tool/draw/cairo_draw.py:1286: RuntimeWarning: divide by zero encountered in true_divide\n",
      "  zoom = min(output_size[0] / w, output_size[1] / h)\n"
     ]
    },
    {
     "data": {
      "text/plain": "<IPython.core.display.SVG object>",
      "image/svg+xml": "<svg xmlns=\"http://www.w3.org/2000/svg\" xmlns:xlink=\"http://www.w3.org/1999/xlink\" width=\"500pt\" height=\"300pt\" viewBox=\"0 0 500 300\" version=\"1.1\">\n<defs>\n<clipPath id=\"clip1\">\n  <path d=\"M 40.207031 16.136719 L 148 16.136719 L 148 19.863281 L 40.207031 19.863281 Z M 40.207031 16.136719 \"/>\n</clipPath>\n<clipPath id=\"clip2\">\n  <path d=\"M 39.230469 13.433594 L 148.335938 13.433594 L 148.335938 22.566406 L 39.230469 22.566406 Z M 39.230469 13.433594 L 54.128906 18 C 54.128906 24.855469 48.570312 30.414062 41.714844 30.414062 C 34.859375 30.414062 29.300781 24.855469 29.300781 18 C 29.300781 11.144531 34.859375 5.585938 41.714844 5.585938 C 48.570312 5.585938 54.128906 11.144531 54.128906 18 Z M 39.230469 13.433594 \"/>\n</clipPath>\n<clipPath id=\"clip3\">\n  <path d=\"M 39.230469 13.433594 L 148.335938 13.433594 L 148.335938 22.566406 L 39.230469 22.566406 Z M 39.230469 13.433594 L 158.269531 18 C 158.269531 24.855469 152.710938 30.414062 145.855469 30.414062 C 139.003906 30.414062 133.441406 24.855469 133.441406 18 C 133.441406 11.144531 139.003906 5.585938 145.855469 5.585938 C 152.710938 5.585938 158.269531 11.144531 158.269531 18 Z M 39.230469 13.433594 \"/>\n</clipPath>\n<clipPath id=\"clip4\">\n  <path d=\"M 40.207031 16.136719 L 251.242188 16.136719 L 251.242188 19.863281 L 40.207031 19.863281 Z M 40.207031 16.136719 \"/>\n</clipPath>\n<clipPath id=\"clip5\">\n  <path d=\"M 39.230469 13.433594 L 252.484375 13.433594 L 252.484375 22.566406 L 39.230469 22.566406 Z M 39.230469 13.433594 L 54.128906 18 C 54.128906 24.855469 48.570312 30.414062 41.714844 30.414062 C 34.859375 30.414062 29.300781 24.855469 29.300781 18 C 29.300781 11.144531 34.859375 5.585938 41.714844 5.585938 C 48.570312 5.585938 54.128906 11.144531 54.128906 18 Z M 39.230469 13.433594 \"/>\n</clipPath>\n<clipPath id=\"clip6\">\n  <path d=\"M 39.230469 13.433594 L 252.484375 13.433594 L 252.484375 22.566406 L 39.230469 22.566406 Z M 39.230469 13.433594 L 262.414062 18 C 262.414062 24.855469 256.855469 30.414062 250 30.414062 C 243.144531 30.414062 237.585938 24.855469 237.585938 18 C 237.585938 11.144531 243.144531 5.585938 250 5.585938 C 256.855469 5.585938 262.414062 11.144531 262.414062 18 Z M 39.230469 13.433594 \"/>\n</clipPath>\n<clipPath id=\"clip7\">\n  <path d=\"M 144.484375 16.136719 L 251.242188 16.136719 L 251.242188 19.863281 L 144.484375 19.863281 Z M 144.484375 16.136719 \"/>\n</clipPath>\n<clipPath id=\"clip8\">\n  <path d=\"M 143.371094 13.433594 L 252.484375 13.433594 L 252.484375 22.566406 L 143.371094 22.566406 Z M 143.371094 13.433594 L 158.269531 18 C 158.269531 24.855469 152.710938 30.414062 145.855469 30.414062 C 139.003906 30.414062 133.441406 24.855469 133.441406 18 C 133.441406 11.144531 139.003906 5.585938 145.855469 5.585938 C 152.710938 5.585938 158.269531 11.144531 158.269531 18 Z M 143.371094 13.433594 \"/>\n</clipPath>\n<clipPath id=\"clip9\">\n  <path d=\"M 143.371094 13.433594 L 252.484375 13.433594 L 252.484375 22.566406 L 143.371094 22.566406 Z M 143.371094 13.433594 L 262.414062 18 C 262.414062 24.855469 256.855469 30.414062 250 30.414062 C 243.144531 30.414062 237.585938 24.855469 237.585938 18 C 237.585938 11.144531 243.144531 5.585938 250 5.585938 C 256.855469 5.585938 262.414062 11.144531 262.414062 18 Z M 143.371094 13.433594 \"/>\n</clipPath>\n<clipPath id=\"clip10\">\n  <path d=\"M 144.484375 16.136719 L 355.515625 16.136719 L 355.515625 19.863281 L 144.484375 19.863281 Z M 144.484375 16.136719 \"/>\n</clipPath>\n<clipPath id=\"clip11\">\n  <path d=\"M 143.371094 13.433594 L 356.628906 13.433594 L 356.628906 22.566406 L 143.371094 22.566406 Z M 143.371094 13.433594 L 158.269531 18 C 158.269531 24.855469 152.710938 30.414062 145.855469 30.414062 C 139.003906 30.414062 133.441406 24.855469 133.441406 18 C 133.441406 11.144531 139.003906 5.585938 145.855469 5.585938 C 152.710938 5.585938 158.269531 11.144531 158.269531 18 Z M 143.371094 13.433594 \"/>\n</clipPath>\n<clipPath id=\"clip12\">\n  <path d=\"M 143.371094 13.433594 L 356.628906 13.433594 L 356.628906 22.566406 L 143.371094 22.566406 Z M 143.371094 13.433594 L 368.761719 18 C 368.761719 26.074219 362.214844 32.621094 354.144531 32.621094 C 346.070312 32.621094 339.523438 26.074219 339.523438 18 C 339.523438 9.925781 346.070312 3.378906 354.144531 3.378906 C 362.214844 3.378906 368.761719 9.925781 368.761719 18 Z M 143.371094 13.433594 \"/>\n</clipPath>\n<clipPath id=\"clip13\">\n  <path d=\"M 248.757812 16.136719 L 459.792969 16.136719 L 459.792969 19.863281 L 248.757812 19.863281 Z M 248.757812 16.136719 \"/>\n</clipPath>\n<clipPath id=\"clip14\">\n  <path d=\"M 247.515625 13.433594 L 460.769531 13.433594 L 460.769531 22.566406 L 247.515625 22.566406 Z M 247.515625 13.433594 L 262.414062 18 C 262.414062 24.855469 256.855469 30.414062 250 30.414062 C 243.144531 30.414062 237.585938 24.855469 237.585938 18 C 237.585938 11.144531 243.144531 5.585938 250 5.585938 C 256.855469 5.585938 262.414062 11.144531 262.414062 18 Z M 247.515625 13.433594 \"/>\n</clipPath>\n<clipPath id=\"clip15\">\n  <path d=\"M 247.515625 13.433594 L 460.769531 13.433594 L 460.769531 22.566406 L 247.515625 22.566406 Z M 247.515625 13.433594 L 470.699219 18 C 470.699219 24.855469 465.140625 30.414062 458.285156 30.414062 C 451.429688 30.414062 445.871094 24.855469 445.871094 18 C 445.871094 11.144531 451.429688 5.585938 458.285156 5.585938 C 465.140625 5.585938 470.699219 11.144531 470.699219 18 Z M 247.515625 13.433594 \"/>\n</clipPath>\n<clipPath id=\"clip16\">\n  <path d=\"M 352 16.136719 L 459.792969 16.136719 L 459.792969 19.863281 L 352 19.863281 Z M 352 16.136719 \"/>\n</clipPath>\n<clipPath id=\"clip17\">\n  <path d=\"M 351.664062 13.433594 L 460.769531 13.433594 L 460.769531 22.566406 L 351.664062 22.566406 Z M 351.664062 13.433594 L 368.761719 18 C 368.761719 26.074219 362.214844 32.621094 354.144531 32.621094 C 346.070312 32.621094 339.523438 26.074219 339.523438 18 C 339.523438 9.925781 346.070312 3.378906 354.144531 3.378906 C 362.214844 3.378906 368.761719 9.925781 368.761719 18 Z M 351.664062 13.433594 \"/>\n</clipPath>\n<clipPath id=\"clip18\">\n  <path d=\"M 351.664062 13.433594 L 460.769531 13.433594 L 460.769531 22.566406 L 351.664062 22.566406 Z M 351.664062 13.433594 L 470.699219 18 C 470.699219 24.855469 465.140625 30.414062 458.285156 30.414062 C 451.429688 30.414062 445.871094 24.855469 445.871094 18 C 445.871094 11.144531 451.429688 5.585938 458.285156 5.585938 C 465.140625 5.585938 470.699219 11.144531 470.699219 18 Z M 351.664062 13.433594 \"/>\n</clipPath>\n</defs>\n<g id=\"surface1\">\n<path style=\" stroke:none;fill-rule:nonzero;fill:rgb(100%,100%,100%);fill-opacity:1;\" d=\"M 1.722656 0 L 498.277344 0 L 498.277344 36 L 1.722656 36 Z M 1.722656 0 \"/>\n<g clip-path=\"url(#clip1)\" clip-rule=\"nonzero\">\n<g clip-path=\"url(#clip2)\" clip-rule=\"nonzero\">\n<g clip-path=\"url(#clip3)\" clip-rule=\"nonzero\">\n<path style=\"fill:none;stroke-width:1.191997;stroke-linecap:butt;stroke-linejoin:miter;stroke:rgb(26.666668%,26.666668%,26.666668%);stroke-opacity:1;stroke-miterlimit:10;\" d=\"M 0.000267269 0 L 49.999199 0 \" transform=\"matrix(2.082857,0,0,2.082857,41.714287,18)\"/>\n</g>\n</g>\n</g>\n<g clip-path=\"url(#clip4)\" clip-rule=\"nonzero\">\n<g clip-path=\"url(#clip5)\" clip-rule=\"nonzero\">\n<g clip-path=\"url(#clip6)\" clip-rule=\"nonzero\">\n<path style=\"fill:none;stroke-width:1.191997;stroke-linecap:butt;stroke-linejoin:miter;stroke:rgb(26.666668%,26.666668%,26.666668%);stroke-opacity:1;stroke-miterlimit:10;\" d=\"M 0.000267269 0 L 100.000005 0 \" transform=\"matrix(2.082857,0,0,2.082857,41.714287,18)\"/>\n</g>\n</g>\n</g>\n<g clip-path=\"url(#clip7)\" clip-rule=\"nonzero\">\n<g clip-path=\"url(#clip8)\" clip-rule=\"nonzero\">\n<g clip-path=\"url(#clip9)\" clip-rule=\"nonzero\">\n<path style=\"fill:none;stroke-width:1.191997;stroke-linecap:butt;stroke-linejoin:miter;stroke:rgb(26.666668%,26.666668%,26.666668%);stroke-opacity:1;stroke-miterlimit:10;\" d=\"M 49.999199 0 L 100.000005 0 \" transform=\"matrix(2.082857,0,0,2.082857,41.714287,18)\"/>\n</g>\n</g>\n</g>\n<g clip-path=\"url(#clip10)\" clip-rule=\"nonzero\">\n<g clip-path=\"url(#clip11)\" clip-rule=\"nonzero\">\n<g clip-path=\"url(#clip12)\" clip-rule=\"nonzero\">\n<path style=\"fill:none;stroke-width:1.191997;stroke-linecap:butt;stroke-linejoin:miter;stroke:rgb(26.666668%,26.666668%,26.666668%);stroke-opacity:1;stroke-miterlimit:10;\" d=\"M 49.999199 0 L 150.000812 0 \" transform=\"matrix(2.082857,0,0,2.082857,41.714287,18)\"/>\n</g>\n</g>\n</g>\n<g clip-path=\"url(#clip13)\" clip-rule=\"nonzero\">\n<g clip-path=\"url(#clip14)\" clip-rule=\"nonzero\">\n<g clip-path=\"url(#clip15)\" clip-rule=\"nonzero\">\n<path style=\"fill:none;stroke-width:1.191997;stroke-linecap:butt;stroke-linejoin:miter;stroke:rgb(26.666668%,26.666668%,26.666668%);stroke-opacity:1;stroke-miterlimit:10;\" d=\"M 100.000005 0 L 199.999744 0 \" transform=\"matrix(2.082857,0,0,2.082857,41.714287,18)\"/>\n</g>\n</g>\n</g>\n<g clip-path=\"url(#clip16)\" clip-rule=\"nonzero\">\n<g clip-path=\"url(#clip17)\" clip-rule=\"nonzero\">\n<g clip-path=\"url(#clip18)\" clip-rule=\"nonzero\">\n<path style=\"fill:none;stroke-width:1.191997;stroke-linecap:butt;stroke-linejoin:miter;stroke:rgb(26.666668%,26.666668%,26.666668%);stroke-opacity:1;stroke-miterlimit:10;\" d=\"M 150.000812 0 L 199.999744 0 \" transform=\"matrix(2.082857,0,0,2.082857,41.714287,18)\"/>\n</g>\n</g>\n</g>\n<path style=\"fill-rule:nonzero;fill:rgb(73.333335%,73.333335%,73.333335%);fill-opacity:1;stroke-width:1.191997;stroke-linecap:butt;stroke-linejoin:miter;stroke:rgb(20%,20%,20%);stroke-opacity:1;stroke-miterlimit:10;\" d=\"M 5.96038 0 C 5.96038 3.291378 3.291645 5.960113 0.000267269 5.960113 C -3.29111 5.960113 -5.959845 3.291378 -5.959845 0 C -5.959845 -3.291378 -3.29111 -5.960113 0.000267269 -5.960113 C 3.291645 -5.960113 5.96038 -3.291378 5.96038 0 Z M 5.96038 0 \" transform=\"matrix(2.082857,0,0,2.082857,41.714287,18)\"/>\n<path style=\" stroke:none;fill-rule:nonzero;fill:rgb(0%,0%,0%);fill-opacity:1;\" d=\"M 42.457031 22.652344 L 43.835938 22.652344 L 43.835938 23.429688 L 39.585938 23.429688 L 39.585938 22.652344 L 40.984375 22.652344 L 40.984375 13.34375 L 39.585938 13.34375 L 39.585938 12.566406 L 43.835938 12.566406 L 43.835938 13.34375 L 42.457031 13.34375 Z M 42.457031 22.652344 \"/>\n<path style=\"fill-rule:nonzero;fill:rgb(73.333335%,73.333335%,73.333335%);fill-opacity:1;stroke-width:1.191997;stroke-linecap:butt;stroke-linejoin:miter;stroke:rgb(20%,20%,20%);stroke-opacity:1;stroke-miterlimit:10;\" d=\"M 5.96038 0 C 5.96038 3.291378 3.291645 5.960113 0.000267269 5.960113 C -3.29111 5.960113 -5.959845 3.291378 -5.959845 0 C -5.959845 -3.291378 -3.29111 -5.960113 0.000267269 -5.960113 C 3.291645 -5.960113 5.96038 -3.291378 5.96038 0 Z M 5.96038 0 \" transform=\"matrix(2.082857,0,0,2.082857,41.714287,18)\"/>\n<path style=\" stroke:none;fill-rule:nonzero;fill:rgb(0%,0%,0%);fill-opacity:1;\" d=\"M 42.457031 22.652344 L 43.835938 22.652344 L 43.835938 23.429688 L 39.585938 23.429688 L 39.585938 22.652344 L 40.984375 22.652344 L 40.984375 13.34375 L 39.585938 13.34375 L 39.585938 12.566406 L 43.835938 12.566406 L 43.835938 13.34375 L 42.457031 13.34375 Z M 42.457031 22.652344 \"/>\n<path style=\"fill-rule:nonzero;fill:rgb(73.333335%,73.333335%,73.333335%);fill-opacity:1;stroke-width:1.191997;stroke-linecap:butt;stroke-linejoin:miter;stroke:rgb(20%,20%,20%);stroke-opacity:1;stroke-miterlimit:10;\" d=\"M 5.95985 0 C 5.95985 3.291378 3.291115 5.960113 -0.000262722 5.960113 C -3.29164 5.960113 -5.960375 3.291378 -5.960375 0 C -5.960375 -3.291378 -3.29164 -5.960113 -0.000262722 -5.960113 C 3.291115 -5.960113 5.95985 -3.291378 5.95985 0 Z M 5.95985 0 \" transform=\"matrix(2.082857,0,0,2.082857,458.285703,18)\"/>\n<path style=\" stroke:none;fill-rule:nonzero;fill:rgb(0%,0%,0%);fill-opacity:1;\" d=\"M 458.285156 23.070312 C 459.472656 23.070312 460.371094 22.664062 460.980469 21.847656 C 461.589844 21.023438 461.894531 19.8125 461.894531 18.222656 C 461.894531 16.605469 461.589844 15.390625 460.980469 14.574219 C 460.371094 13.761719 459.472656 13.351562 458.285156 13.351562 C 457.09375 13.351562 456.195312 13.761719 455.589844 14.574219 C 454.980469 15.390625 454.679688 16.605469 454.679688 18.222656 C 454.679688 19.8125 454.980469 21.023438 455.589844 21.847656 C 456.195312 22.664062 457.09375 23.070312 458.285156 23.070312 Z M 458.285156 23.847656 C 457.546875 23.847656 456.871094 23.722656 456.25 23.476562 C 455.628906 23.234375 455.085938 22.878906 454.621094 22.410156 C 454.078125 21.867188 453.667969 21.257812 453.398438 20.570312 C 453.136719 19.871094 453.011719 19.089844 453.011719 18.222656 C 453.011719 17.34375 453.136719 16.5625 453.398438 15.875 C 453.667969 15.175781 454.078125 14.554688 454.621094 14.011719 C 455.09375 13.539062 455.636719 13.179688 456.25 12.945312 C 456.855469 12.703125 457.535156 12.578125 458.285156 12.578125 C 459.863281 12.578125 461.136719 13.097656 462.105469 14.128906 C 463.078125 15.167969 463.5625 16.53125 463.5625 18.222656 C 463.5625 19.089844 463.425781 19.871094 463.152344 20.570312 C 462.890625 21.257812 462.496094 21.867188 461.953125 22.410156 C 461.472656 22.890625 460.921875 23.253906 460.304688 23.496094 C 459.691406 23.730469 459.023438 23.847656 458.285156 23.847656 Z M 458.285156 23.847656 \"/>\n<path style=\"fill-rule:nonzero;fill:rgb(73.333335%,73.333335%,73.333335%);fill-opacity:1;stroke-width:1.191997;stroke-linecap:butt;stroke-linejoin:miter;stroke:rgb(20%,20%,20%);stroke-opacity:1;stroke-miterlimit:10;\" d=\"M 5.95985 0 C 5.95985 3.291378 3.291115 5.960113 -0.000262722 5.960113 C -3.29164 5.960113 -5.960375 3.291378 -5.960375 0 C -5.960375 -3.291378 -3.29164 -5.960113 -0.000262722 -5.960113 C 3.291115 -5.960113 5.95985 -3.291378 5.95985 0 Z M 5.95985 0 \" transform=\"matrix(2.082857,0,0,2.082857,458.285703,18)\"/>\n<path style=\" stroke:none;fill-rule:nonzero;fill:rgb(0%,0%,0%);fill-opacity:1;\" d=\"M 458.285156 23.070312 C 459.472656 23.070312 460.371094 22.664062 460.980469 21.847656 C 461.589844 21.023438 461.894531 19.8125 461.894531 18.222656 C 461.894531 16.605469 461.589844 15.390625 460.980469 14.574219 C 460.371094 13.761719 459.472656 13.351562 458.285156 13.351562 C 457.09375 13.351562 456.195312 13.761719 455.589844 14.574219 C 454.980469 15.390625 454.679688 16.605469 454.679688 18.222656 C 454.679688 19.8125 454.980469 21.023438 455.589844 21.847656 C 456.195312 22.664062 457.09375 23.070312 458.285156 23.070312 Z M 458.285156 23.847656 C 457.546875 23.847656 456.871094 23.722656 456.25 23.476562 C 455.628906 23.234375 455.085938 22.878906 454.621094 22.410156 C 454.078125 21.867188 453.667969 21.257812 453.398438 20.570312 C 453.136719 19.871094 453.011719 19.089844 453.011719 18.222656 C 453.011719 17.34375 453.136719 16.5625 453.398438 15.875 C 453.667969 15.175781 454.078125 14.554688 454.621094 14.011719 C 455.09375 13.539062 455.636719 13.179688 456.25 12.945312 C 456.855469 12.703125 457.535156 12.578125 458.285156 12.578125 C 459.863281 12.578125 461.136719 13.097656 462.105469 14.128906 C 463.078125 15.167969 463.5625 16.53125 463.5625 18.222656 C 463.5625 19.089844 463.425781 19.871094 463.152344 20.570312 C 462.890625 21.257812 462.496094 21.867188 461.953125 22.410156 C 461.472656 22.890625 460.921875 23.253906 460.304688 23.496094 C 459.691406 23.730469 459.023438 23.847656 458.285156 23.847656 Z M 458.285156 23.847656 \"/>\n<path style=\"fill-rule:nonzero;fill:rgb(58.823532%,98.039216%,66.666669%);fill-opacity:1;stroke-width:1.191997;stroke-linecap:butt;stroke-linejoin:miter;stroke:rgb(20%,20%,20%);stroke-opacity:1;stroke-miterlimit:10;\" d=\"M 5.959311 0 C 5.959311 3.291378 3.290576 5.960113 -0.000801806 5.960113 C -3.290304 5.960113 -5.960914 3.291378 -5.960914 0 C -5.960914 -3.291378 -3.290304 -5.960113 -0.000801806 -5.960113 C 3.290576 -5.960113 5.959311 -3.291378 5.959311 0 Z M 5.959311 0 \" transform=\"matrix(2.082857,0,0,2.082857,145.857139,18)\"/>\n<path style=\"fill-rule:nonzero;fill:rgb(100%,56.862748%,56.862748%);fill-opacity:1;stroke-width:1.191997;stroke-linecap:butt;stroke-linejoin:miter;stroke:rgb(20%,20%,20%);stroke-opacity:1;stroke-miterlimit:10;\" d=\"M 5.960113 0 C 5.960113 3.291378 3.291378 5.960113 0 5.960113 C -3.291378 5.960113 -5.960113 3.291378 -5.960113 0 C -5.960113 -3.291378 -3.291378 -5.960113 0 -5.960113 C 3.291378 -5.960113 5.960113 -3.291378 5.960113 0 Z M 5.960113 0 \" transform=\"matrix(2.082857,0,0,2.082857,250,18)\"/>\n<path style=\"fill-rule:nonzero;fill:rgb(100%,56.862748%,56.862748%);fill-opacity:1;stroke-width:1.191997;stroke-linecap:butt;stroke-linejoin:miter;stroke:rgb(20%,20%,20%);stroke-opacity:1;stroke-miterlimit:10;\" d=\"M 7.018661 0 C 7.018661 3.876511 3.875442 7.01973 0.000806354 7.01973 C -3.875705 7.01973 -7.018924 3.876511 -7.018924 0 C -7.018924 -3.876511 -3.875705 -7.01973 0.000806354 -7.01973 C 3.875442 -7.01973 7.018661 -3.876511 7.018661 0 Z M 7.018661 0 \" transform=\"matrix(2.082857,0,0,2.082857,354.142852,18)\"/>\n<path style=\" stroke:none;fill-rule:nonzero;fill:rgb(0%,0%,0%);fill-opacity:1;\" d=\"M 343.996094 23.632812 L 343.996094 22.859375 L 345.898438 22.859375 L 345.898438 13.820312 L 343.707031 15.253906 L 343.707031 14.285156 L 346.34375 12.578125 L 347.351562 12.578125 L 347.351562 22.859375 L 349.253906 22.859375 L 349.253906 23.632812 Z M 343.996094 23.632812 \"/>\n<path style=\" stroke:none;fill-rule:nonzero;fill:rgb(0%,0%,0%);fill-opacity:1;\" d=\"M 352.757812 22.878906 C 352.757812 22.605469 352.84375 22.382812 353.027344 22.199219 C 353.222656 22.003906 353.457031 21.90625 353.726562 21.90625 C 354 21.90625 354.222656 22.003906 354.40625 22.199219 C 354.601562 22.382812 354.695312 22.605469 354.695312 22.878906 C 354.695312 23.148438 354.601562 23.382812 354.40625 23.574219 C 354.222656 23.753906 354 23.847656 353.726562 23.847656 C 353.457031 23.847656 353.222656 23.753906 353.027344 23.574219 C 352.84375 23.382812 352.757812 23.148438 352.757812 22.878906 Z M 352.757812 22.878906 \"/>\n<path style=\" stroke:none;fill-rule:nonzero;fill:rgb(0%,0%,0%);fill-opacity:1;\" d=\"M 360.828125 23.128906 C 361.574219 23.128906 362.132812 22.722656 362.496094 21.90625 C 362.871094 21.09375 363.058594 19.867188 363.058594 18.222656 C 363.058594 16.566406 362.871094 15.332031 362.496094 14.515625 C 362.132812 13.703125 361.574219 13.296875 360.828125 13.296875 C 360.089844 13.296875 359.535156 13.703125 359.160156 14.515625 C 358.796875 15.332031 358.617188 16.566406 358.617188 18.222656 C 358.617188 19.867188 358.796875 21.09375 359.160156 21.90625 C 359.535156 22.722656 360.089844 23.128906 360.828125 23.128906 Z M 360.828125 23.847656 C 359.648438 23.847656 358.734375 23.355469 358.074219 22.371094 C 357.414062 21.378906 357.085938 19.996094 357.085938 18.222656 C 357.085938 16.4375 357.414062 15.054688 358.074219 14.070312 C 358.734375 13.078125 359.648438 12.578125 360.828125 12.578125 C 362.015625 12.578125 362.941406 13.078125 363.601562 14.070312 C 364.261719 15.054688 364.589844 16.4375 364.589844 18.222656 C 364.589844 19.996094 364.261719 21.378906 363.601562 22.371094 C 362.941406 23.355469 362.015625 23.847656 360.828125 23.847656 Z M 360.828125 23.847656 \"/>\n</g>\n</svg>"
     },
     "metadata": {},
     "output_type": "display_data"
    }
   ],
   "source": [
    "from zxopt.data_structures.diagram import Diagram\n",
    "from zxopt.visualization import DiagramRenderer\n",
    "import math\n",
    "\n",
    "diagram = Diagram()\n",
    "in1 = diagram.add_boundary(\"in\")\n",
    "in2 = diagram.add_boundary(\"in\")\n",
    "out1 = diagram.add_boundary(\"out\")\n",
    "out2 = diagram.add_boundary(\"out\")\n",
    "\n",
    "s1_1 = diagram.add_spider(0.0, \"green\")\n",
    "s1_2 = diagram.add_spider(0.0, \"red\")\n",
    "s2_1 = diagram.add_spider(math.pi, \"red\")\n",
    "\n",
    "diagram.add_wire(in1, s1_1)\n",
    "diagram.add_wire(in2, s1_2)\n",
    "diagram.add_wire(s1_1, s1_2)\n",
    "diagram.add_wire(s1_1, s2_1)\n",
    "diagram.add_wire(s2_1, out1)\n",
    "diagram.add_wire(s1_2, out2)\n",
    "\n",
    "# diagram.render()\n",
    "diagram_renderer = DiagramRenderer(diagram)\n",
    "diagram_renderer.render_image()"
   ],
   "metadata": {
    "collapsed": false,
    "pycharm": {
     "name": "#%%\n"
    }
   }
  },
  {
   "cell_type": "markdown",
   "source": [
    "### Circuit translation"
   ],
   "metadata": {
    "collapsed": false,
    "pycharm": {
     "name": "#%% md\n"
    }
   }
  },
  {
   "cell_type": "code",
   "execution_count": null,
   "outputs": [],
   "source": [
    "from zxopt.translation import CircuitTranslator\n",
    "from zxopt.visualization import Window\n",
    "\n",
    "circuit = OpenQasmParser().load_file(\"./circuits/test/simple_translation_test.qasm\")\n",
    "diagram = CircuitTranslator(circuit).translate()\n",
    "\n",
    "renderer = DiagramRenderer(diagram)\n",
    "# renderer = CircuitRenderer(circuit)\n",
    "\n",
    "window = Window(renderer)\n",
    "window.main_loop()"
   ],
   "metadata": {
    "collapsed": false,
    "pycharm": {
     "name": "#%%\n",
     "is_executing": true
    }
   }
  },
  {
   "cell_type": "markdown",
   "source": [
    "### Validation"
   ],
   "metadata": {
    "collapsed": false,
    "pycharm": {
     "name": "#%% md\n"
    }
   }
  },
  {
   "cell_type": "code",
   "execution_count": 4,
   "outputs": [
    {
     "data": {
      "text/plain": "<IPython.core.display.SVG object>",
      "image/svg+xml": "<svg xmlns=\"http://www.w3.org/2000/svg\" xmlns:xlink=\"http://www.w3.org/1999/xlink\" width=\"500pt\" height=\"300pt\" viewBox=\"0 0 500 300\" version=\"1.1\">\n<defs>\n<g>\n<symbol overflow=\"visible\" id=\"glyph0-0\">\n<path style=\"stroke:none;\" d=\"M 0.703125 2.46875 L 0.703125 -9.875 L 7.703125 -9.875 L 7.703125 2.46875 Z M 1.484375 1.703125 L 6.921875 1.703125 L 6.921875 -9.078125 L 1.484375 -9.078125 Z M 1.484375 1.703125 \"/>\n</symbol>\n<symbol overflow=\"visible\" id=\"glyph0-1\">\n<path style=\"stroke:none;\" d=\"M 2.078125 -3.828125 C 2.078125 -2.898438 2.265625 -2.171875 2.640625 -1.640625 C 3.023438 -1.117188 3.550781 -0.859375 4.21875 -0.859375 C 4.875 -0.859375 5.394531 -1.117188 5.78125 -1.640625 C 6.164062 -2.171875 6.359375 -2.898438 6.359375 -3.828125 C 6.359375 -4.742188 6.164062 -5.460938 5.78125 -5.984375 C 5.394531 -6.515625 4.875 -6.78125 4.21875 -6.78125 C 3.550781 -6.78125 3.023438 -6.515625 2.640625 -5.984375 C 2.265625 -5.460938 2.078125 -4.742188 2.078125 -3.828125 Z M 6.359375 -1.15625 C 6.097656 -0.695312 5.765625 -0.351562 5.359375 -0.125 C 4.953125 0.09375 4.46875 0.203125 3.90625 0.203125 C 2.976562 0.203125 2.222656 -0.164062 1.640625 -0.90625 C 1.054688 -1.644531 0.765625 -2.617188 0.765625 -3.828125 C 0.765625 -5.023438 1.054688 -5.992188 1.640625 -6.734375 C 2.222656 -7.472656 2.976562 -7.84375 3.90625 -7.84375 C 4.46875 -7.84375 4.953125 -7.726562 5.359375 -7.5 C 5.765625 -7.28125 6.097656 -6.945312 6.359375 -6.5 L 6.359375 -7.65625 L 7.609375 -7.65625 L 7.609375 2.90625 L 6.359375 2.90625 Z M 6.359375 -1.15625 \"/>\n</symbol>\n<symbol overflow=\"visible\" id=\"glyph0-2\">\n<path style=\"stroke:none;\" d=\"M 1.203125 -10.640625 L 4.109375 -10.640625 L 4.109375 -9.65625 L 2.46875 -9.65625 L 2.46875 0.875 L 4.109375 0.875 L 4.109375 1.84375 L 1.203125 1.84375 Z M 1.203125 -10.640625 \"/>\n</symbol>\n<symbol overflow=\"visible\" id=\"glyph0-3\">\n<path style=\"stroke:none;\" d=\"M 4.453125 -9.296875 C 3.742188 -9.296875 3.207031 -8.945312 2.84375 -8.25 C 2.488281 -7.550781 2.3125 -6.5 2.3125 -5.09375 C 2.3125 -3.695312 2.488281 -2.644531 2.84375 -1.9375 C 3.207031 -1.238281 3.742188 -0.890625 4.453125 -0.890625 C 5.171875 -0.890625 5.707031 -1.238281 6.0625 -1.9375 C 6.414062 -2.644531 6.59375 -3.695312 6.59375 -5.09375 C 6.59375 -6.5 6.414062 -7.550781 6.0625 -8.25 C 5.707031 -8.945312 5.171875 -9.296875 4.453125 -9.296875 Z M 4.453125 -10.390625 C 5.597656 -10.390625 6.472656 -9.9375 7.078125 -9.03125 C 7.679688 -8.125 7.984375 -6.8125 7.984375 -5.09375 C 7.984375 -3.375 7.679688 -2.0625 7.078125 -1.15625 C 6.472656 -0.25 5.597656 0.203125 4.453125 0.203125 C 3.304688 0.203125 2.429688 -0.25 1.828125 -1.15625 C 1.222656 -2.0625 0.921875 -3.375 0.921875 -5.09375 C 0.921875 -6.8125 1.222656 -8.125 1.828125 -9.03125 C 2.429688 -9.9375 3.304688 -10.390625 4.453125 -10.390625 Z M 4.453125 -10.390625 \"/>\n</symbol>\n<symbol overflow=\"visible\" id=\"glyph0-4\">\n<path style=\"stroke:none;\" d=\"M 4.265625 -10.640625 L 4.265625 1.84375 L 1.359375 1.84375 L 1.359375 0.875 L 3 0.875 L 3 -9.65625 L 1.359375 -9.65625 L 1.359375 -10.640625 Z M 4.265625 -10.640625 \"/>\n</symbol>\n<symbol overflow=\"visible\" id=\"glyph0-5\">\n<path style=\"stroke:none;\" d=\"M 1.734375 -1.15625 L 4 -1.15625 L 4 -8.953125 L 1.53125 -8.453125 L 1.53125 -9.71875 L 3.984375 -10.203125 L 5.359375 -10.203125 L 5.359375 -1.15625 L 7.609375 -1.15625 L 7.609375 0 L 1.734375 0 Z M 1.734375 -1.15625 \"/>\n</symbol>\n<symbol overflow=\"visible\" id=\"glyph0-6\">\n<path style=\"stroke:none;\" d=\"M 0.875 -10.203125 L 2.359375 -10.203125 L 4.90625 -6.40625 L 7.453125 -10.203125 L 8.9375 -10.203125 L 5.65625 -5.3125 L 9.15625 0 L 7.671875 0 L 4.796875 -4.34375 L 1.90625 0 L 0.421875 0 L 4.0625 -5.453125 Z M 0.875 -10.203125 \"/>\n</symbol>\n<symbol overflow=\"visible\" id=\"glyph0-7\">\n<path style=\"stroke:none;\" d=\"M 1.375 -10.203125 L 2.75 -10.203125 L 2.75 -6.015625 L 7.765625 -6.015625 L 7.765625 -10.203125 L 9.15625 -10.203125 L 9.15625 0 L 7.765625 0 L 7.765625 -4.859375 L 2.75 -4.859375 L 2.75 0 L 1.375 0 Z M 1.375 -10.203125 \"/>\n</symbol>\n</g>\n</defs>\n<g id=\"surface11\">\n<g style=\"fill:rgb(0%,0%,0%);fill-opacity:1;\">\n  <use xlink:href=\"#glyph0-1\" x=\"20\" y=\"53.773438\"/>\n  <use xlink:href=\"#glyph0-2\" x=\"28.886719\" y=\"53.773438\"/>\n  <use xlink:href=\"#glyph0-3\" x=\"34.348633\" y=\"53.773438\"/>\n  <use xlink:href=\"#glyph0-4\" x=\"43.255859\" y=\"53.773438\"/>\n</g>\n<path style=\"fill:none;stroke-width:1;stroke-linecap:butt;stroke-linejoin:miter;stroke:rgb(0%,0%,0%);stroke-opacity:1;stroke-miterlimit:10;\" d=\"M 0 0.5 L 139 0.5 Z M 0 0.5 \" transform=\"matrix(1,0,0,1,56.742188,50)\"/>\n<g style=\"fill:rgb(0%,0%,0%);fill-opacity:1;\">\n  <use xlink:href=\"#glyph0-1\" x=\"20\" y=\"113.773438\"/>\n  <use xlink:href=\"#glyph0-2\" x=\"28.886719\" y=\"113.773438\"/>\n  <use xlink:href=\"#glyph0-5\" x=\"34.348633\" y=\"113.773438\"/>\n  <use xlink:href=\"#glyph0-4\" x=\"43.255859\" y=\"113.773438\"/>\n</g>\n<path style=\"fill:none;stroke-width:1;stroke-linecap:butt;stroke-linejoin:miter;stroke:rgb(0%,0%,0%);stroke-opacity:1;stroke-miterlimit:10;\" d=\"M 0 60.5 L 139 60.5 Z M 0 60.5 \" transform=\"matrix(1,0,0,1,56.742188,50)\"/>\n<path style=\" stroke:none;fill-rule:nonzero;fill:rgb(0%,0%,0%);fill-opacity:1;\" d=\"M 161.242188 50.5 C 161.242188 55.832031 153.242188 55.832031 153.242188 50.5 C 153.242188 45.167969 161.242188 45.167969 161.242188 50.5 \"/>\n<path style=\"fill:none;stroke-width:1;stroke-linecap:butt;stroke-linejoin:miter;stroke:rgb(0%,0%,0%);stroke-opacity:1;stroke-miterlimit:10;\" d=\"M 60.5 0.5 L 60.5 60 Z M 60.5 0.5 \" transform=\"matrix(1,0,0,1,96.742188,50)\"/>\n<path style=\" stroke:none;fill-rule:nonzero;fill:rgb(15.294118%,56.078431%,25.882353%);fill-opacity:1;\" d=\"M 136.742188 90 L 176.742188 90 L 176.742188 130 L 136.742188 130 Z M 136.742188 90 \"/>\n<g style=\"fill:rgb(0%,0%,0%);fill-opacity:1;\">\n  <use xlink:href=\"#glyph0-6\" x=\"152.375\" y=\"115.101562\"/>\n</g>\n<path style=\" stroke:none;fill-rule:nonzero;fill:rgb(15.294118%,56.078431%,25.882353%);fill-opacity:1;\" d=\"M 76.742188 30 L 116.742188 30 L 116.742188 70 L 76.742188 70 Z M 76.742188 30 \"/>\n<g style=\"fill:rgb(0%,0%,0%);fill-opacity:1;\">\n  <use xlink:href=\"#glyph0-7\" x=\"92.851562\" y=\"55.101562\"/>\n</g>\n</g>\n</svg>"
     },
     "metadata": {},
     "output_type": "display_data"
    },
    {
     "data": {
      "text/plain": "array([[ 0.70710678,  0.        ,  0.70710678,  0.        ],\n       [ 0.        ,  0.70710678,  0.        ,  0.70710678],\n       [ 0.        ,  0.70710678,  0.        , -0.70710678],\n       [ 0.70710678,  0.        , -0.70710678,  0.        ]])"
     },
     "execution_count": 4,
     "metadata": {},
     "output_type": "execute_result"
    }
   ],
   "source": [
    "from zxopt.data_structures.circuit import Circuit, GateComponent, HadamardGateType, PauliXGateType\n",
    "from zxopt.data_structures.circuit.register.quantum_register import QuantumRegister\n",
    "from zxopt.visualization import CircuitRenderer\n",
    "from zxopt.validation import CircuitUnitaryExtractor\n",
    "\n",
    "circuit = Circuit()\n",
    "qreg = QuantumRegister(2, \"q\")\n",
    "circuit.add_register(qreg)\n",
    "h = GateComponent(qreg[0], HadamardGateType())\n",
    "cx = GateComponent(qreg[1], PauliXGateType(), control_bits={qreg[0]})\n",
    "circuit.add_component(h)\n",
    "circuit.add_component(cx)\n",
    "\n",
    "renderer = CircuitRenderer(circuit)\n",
    "renderer.render_image()\n",
    "\n",
    "circuitValidator = CircuitUnitaryExtractor(circuit)\n",
    "circuitValidator.extract_matrix()\n"
   ],
   "metadata": {
    "collapsed": false,
    "pycharm": {
     "name": "#%%\n"
    }
   }
  },
  {
   "cell_type": "markdown",
   "source": [
    "#### Validation tensor contraction"
   ],
   "metadata": {
    "collapsed": false,
    "pycharm": {
     "name": "#%% md\n"
    }
   }
  },
  {
   "cell_type": "code",
   "execution_count": 19,
   "outputs": [
    {
     "data": {
      "text/plain": "array([[ 8., -0.,  8., -0.],\n       [-0.,  8., -0.,  8.],\n       [-0.,  8.,  0., -8.],\n       [ 8., -0., -8.,  0.]])"
     },
     "execution_count": 19,
     "metadata": {},
     "output_type": "execute_result"
    }
   ],
   "source": [
    "import tensornetwork as tn\n",
    "import math\n",
    "import numpy as np\n",
    "\n",
    "# represents same circuit as above\n",
    "H = math.sqrt(2) * np.array([[1,1],[1,-1]])\n",
    "Z3 = np.array([[[1,0],[0,0]],[[0,0],[0,1]]]) # alpha = 0\n",
    "A = H\n",
    "B = H\n",
    "C = Z3\n",
    "D = H\n",
    "E = Z3\n",
    "F = H\n",
    "\n",
    "linearMap = tn.ncon([A,B,C,D,E,F], [(-3, 1), (-4, 2), (1, -1, 3), (3,4), (2,4,5), (5,-2)])\n",
    "np.round(linearMap.reshape(4,4), decimals=5) # same as above scaled\n",
    "\n",
    "# dimension 1 and 2 are input, 3 and 4 are output (how to reshape correctly)\n",
    "# just swap dimension ids as input to ncon?\n"
   ],
   "metadata": {
    "collapsed": false,
    "pycharm": {
     "name": "#%%\n"
    }
   }
  },
  {
   "cell_type": "code",
   "execution_count": null,
   "outputs": [],
   "source": [],
   "metadata": {
    "collapsed": false,
    "pycharm": {
     "name": "#%%\n"
    }
   }
  }
 ],
 "metadata": {
  "kernelspec": {
   "display_name": "zx-impl",
   "language": "python",
   "name": "zx-impl"
  },
  "language_info": {
   "codemirror_mode": {
    "name": "ipython",
    "version": 3
   },
   "file_extension": ".py",
   "mimetype": "text/x-python",
   "name": "python",
   "nbconvert_exporter": "python",
   "pygments_lexer": "ipython3",
   "version": "3.9.4"
  }
 },
 "nbformat": 4,
 "nbformat_minor": 4
}