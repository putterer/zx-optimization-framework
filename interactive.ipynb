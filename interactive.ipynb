{
 "cells": [
  {
   "cell_type": "markdown",
   "metadata": {},
   "source": [
    "### Rendering"
   ]
  },
  {
   "cell_type": "markdown",
   "metadata": {},
   "source": [
    "### Interactively"
   ]
  },
  {
   "cell_type": "code",
   "execution_count": 1,
   "metadata": {
    "pycharm": {
     "name": "#%%\n"
    }
   },
   "outputs": [
    {
     "ename": "KeyboardInterrupt",
     "evalue": "",
     "output_type": "error",
     "traceback": [
      "\u001B[0;31m---------------------------------------------------------------------------\u001B[0m",
      "\u001B[0;31mKeyboardInterrupt\u001B[0m                         Traceback (most recent call last)",
      "\u001B[0;32m<ipython-input-1-3cb7b494af22>\u001B[0m in \u001B[0;36m<module>\u001B[0;34m\u001B[0m\n\u001B[0;32m----> 1\u001B[0;31m \u001B[0;32mfrom\u001B[0m \u001B[0mzxopt\u001B[0m\u001B[0;34m.\u001B[0m\u001B[0mvisualization\u001B[0m \u001B[0;32mimport\u001B[0m \u001B[0mWindow\u001B[0m\u001B[0;34m\u001B[0m\u001B[0;34m\u001B[0m\u001B[0m\n\u001B[0m\u001B[1;32m      2\u001B[0m \u001B[0;34m\u001B[0m\u001B[0m\n\u001B[1;32m      3\u001B[0m \u001B[0mwindow\u001B[0m \u001B[0;34m=\u001B[0m \u001B[0mWindow\u001B[0m\u001B[0;34m(\u001B[0m\u001B[0;34m)\u001B[0m\u001B[0;34m\u001B[0m\u001B[0;34m\u001B[0m\u001B[0m\n\u001B[1;32m      4\u001B[0m \u001B[0mwindow\u001B[0m\u001B[0;34m.\u001B[0m\u001B[0mmain_loop\u001B[0m\u001B[0;34m(\u001B[0m\u001B[0;34m)\u001B[0m\u001B[0;34m\u001B[0m\u001B[0;34m\u001B[0m\u001B[0m\n\u001B[1;32m      5\u001B[0m \u001B[0;34m\u001B[0m\u001B[0m\n",
      "\u001B[0;32m~/uni/sem10-quantum-zx-impl/zxopt/visualization/__init__.py\u001B[0m in \u001B[0;36m<module>\u001B[0;34m\u001B[0m\n\u001B[1;32m     13\u001B[0m \u001B[0;34m\u001B[0m\u001B[0m\n\u001B[1;32m     14\u001B[0m \u001B[0;32mfrom\u001B[0m \u001B[0mzxopt\u001B[0m\u001B[0;34m.\u001B[0m\u001B[0mvisualization\u001B[0m\u001B[0;34m.\u001B[0m\u001B[0mcircuit_renderer\u001B[0m \u001B[0;32mimport\u001B[0m \u001B[0mCircuitRenderer\u001B[0m\u001B[0;34m\u001B[0m\u001B[0;34m\u001B[0m\u001B[0m\n\u001B[0;32m---> 15\u001B[0;31m \u001B[0;32mfrom\u001B[0m \u001B[0mzxopt\u001B[0m\u001B[0;34m.\u001B[0m\u001B[0mvisualization\u001B[0m\u001B[0;34m.\u001B[0m\u001B[0mdiagram_renderer\u001B[0m \u001B[0;32mimport\u001B[0m \u001B[0mDiagramRenderer\u001B[0m\u001B[0;34m\u001B[0m\u001B[0;34m\u001B[0m\u001B[0m\n\u001B[0m\u001B[1;32m     16\u001B[0m \u001B[0;32mfrom\u001B[0m \u001B[0mzxopt\u001B[0m\u001B[0;34m.\u001B[0m\u001B[0mvisualization\u001B[0m\u001B[0;34m.\u001B[0m\u001B[0mrenderer\u001B[0m \u001B[0;32mimport\u001B[0m \u001B[0mRenderer\u001B[0m\u001B[0;34m\u001B[0m\u001B[0;34m\u001B[0m\u001B[0m\n\u001B[1;32m     17\u001B[0m \u001B[0;32mfrom\u001B[0m \u001B[0mzxopt\u001B[0m\u001B[0;34m.\u001B[0m\u001B[0mvisualization\u001B[0m\u001B[0;34m.\u001B[0m\u001B[0mwindow\u001B[0m \u001B[0;32mimport\u001B[0m \u001B[0mWindow\u001B[0m\u001B[0;34m\u001B[0m\u001B[0;34m\u001B[0m\u001B[0m\n",
      "\u001B[0;32m~/uni/sem10-quantum-zx-impl/zxopt/visualization/diagram_renderer.py\u001B[0m in \u001B[0;36m<module>\u001B[0;34m\u001B[0m\n\u001B[1;32m     11\u001B[0m \u001B[0;34m\u001B[0m\u001B[0m\n\u001B[1;32m     12\u001B[0m \u001B[0;32mimport\u001B[0m \u001B[0mcairo\u001B[0m\u001B[0;34m\u001B[0m\u001B[0;34m\u001B[0m\u001B[0m\n\u001B[0;32m---> 13\u001B[0;31m \u001B[0;32mfrom\u001B[0m \u001B[0mgraph_tool\u001B[0m\u001B[0;34m.\u001B[0m\u001B[0mdraw\u001B[0m \u001B[0;32mimport\u001B[0m \u001B[0mgraph_draw\u001B[0m\u001B[0;34m\u001B[0m\u001B[0;34m\u001B[0m\u001B[0m\n\u001B[0m\u001B[1;32m     14\u001B[0m \u001B[0;34m\u001B[0m\u001B[0m\n\u001B[1;32m     15\u001B[0m \u001B[0;32mfrom\u001B[0m \u001B[0mzxopt\u001B[0m\u001B[0;34m.\u001B[0m\u001B[0mdata_structures\u001B[0m\u001B[0;34m.\u001B[0m\u001B[0mdiagram\u001B[0m\u001B[0;34m.\u001B[0m\u001B[0mdiagram\u001B[0m \u001B[0;32mimport\u001B[0m \u001B[0mVERTEX_BOUNDARY\u001B[0m\u001B[0;34m,\u001B[0m \u001B[0mINPUT\u001B[0m\u001B[0;34m,\u001B[0m \u001B[0mVERTEX_SPIDER_GREEN\u001B[0m\u001B[0;34m,\u001B[0m \u001B[0mDiagram\u001B[0m\u001B[0;34m\u001B[0m\u001B[0;34m\u001B[0m\u001B[0m\n",
      "\u001B[0;32m/usr/lib64/python3.9/site-packages/graph_tool/draw/__init__.py\u001B[0m in \u001B[0;36m<module>\u001B[0;34m\u001B[0m\n\u001B[1;32m     71\u001B[0m \u001B[0;32mfrom\u001B[0m \u001B[0;34m.\u001B[0m\u001B[0;34m.\u001B[0m \u001B[0mtopology\u001B[0m \u001B[0;32mimport\u001B[0m \u001B[0mmax_cardinality_matching\u001B[0m\u001B[0;34m,\u001B[0m \u001B[0mmax_independent_vertex_set\u001B[0m\u001B[0;34m,\u001B[0m\u001B[0;31m \u001B[0m\u001B[0;31m\\\u001B[0m\u001B[0;34m\u001B[0m\u001B[0;34m\u001B[0m\u001B[0m\n\u001B[1;32m     72\u001B[0m     \u001B[0mlabel_components\u001B[0m\u001B[0;34m,\u001B[0m \u001B[0mshortest_distance\u001B[0m\u001B[0;34m,\u001B[0m \u001B[0mmake_maximal_planar\u001B[0m\u001B[0;34m,\u001B[0m \u001B[0mis_planar\u001B[0m\u001B[0;34m\u001B[0m\u001B[0;34m\u001B[0m\u001B[0m\n\u001B[0;32m---> 73\u001B[0;31m \u001B[0;32mfrom\u001B[0m \u001B[0;34m.\u001B[0m\u001B[0;34m.\u001B[0m \u001B[0mgeneration\u001B[0m \u001B[0;32mimport\u001B[0m \u001B[0mpredecessor_tree\u001B[0m\u001B[0;34m,\u001B[0m \u001B[0mcondensation_graph\u001B[0m\u001B[0;34m\u001B[0m\u001B[0;34m\u001B[0m\u001B[0m\n\u001B[0m\u001B[1;32m     74\u001B[0m \u001B[0;32mimport\u001B[0m \u001B[0mnumpy\u001B[0m\u001B[0;34m.\u001B[0m\u001B[0mrandom\u001B[0m\u001B[0;34m\u001B[0m\u001B[0;34m\u001B[0m\u001B[0m\n\u001B[1;32m     75\u001B[0m \u001B[0;32mfrom\u001B[0m \u001B[0mnumpy\u001B[0m \u001B[0;32mimport\u001B[0m \u001B[0msqrt\u001B[0m\u001B[0;34m\u001B[0m\u001B[0;34m\u001B[0m\u001B[0m\n",
      "\u001B[0;32m/usr/lib64/python3.9/site-packages/graph_tool/generation/__init__.py\u001B[0m in \u001B[0;36m<module>\u001B[0;34m\u001B[0m\n\u001B[1;32m     57\u001B[0m \u001B[0;32mimport\u001B[0m \u001B[0mnumpy\u001B[0m\u001B[0;34m\u001B[0m\u001B[0;34m\u001B[0m\u001B[0m\n\u001B[1;32m     58\u001B[0m \u001B[0;32mimport\u001B[0m \u001B[0mnumpy\u001B[0m\u001B[0;34m.\u001B[0m\u001B[0mrandom\u001B[0m\u001B[0;34m\u001B[0m\u001B[0;34m\u001B[0m\u001B[0m\n\u001B[0;32m---> 59\u001B[0;31m \u001B[0;32mimport\u001B[0m \u001B[0mscipy\u001B[0m\u001B[0;34m.\u001B[0m\u001B[0moptimize\u001B[0m\u001B[0;34m\u001B[0m\u001B[0;34m\u001B[0m\u001B[0m\n\u001B[0m\u001B[1;32m     60\u001B[0m \u001B[0;32mimport\u001B[0m \u001B[0mscipy\u001B[0m\u001B[0;34m.\u001B[0m\u001B[0msparse\u001B[0m\u001B[0;34m\u001B[0m\u001B[0;34m\u001B[0m\u001B[0m\n\u001B[1;32m     61\u001B[0m \u001B[0;34m\u001B[0m\u001B[0m\n",
      "\u001B[0;32m/usr/lib64/python3.9/site-packages/scipy/optimize/__init__.py\u001B[0m in \u001B[0;36m<module>\u001B[0;34m\u001B[0m\n\u001B[1;32m    406\u001B[0m                            Bounds)\n\u001B[1;32m    407\u001B[0m \u001B[0;32mfrom\u001B[0m \u001B[0;34m.\u001B[0m\u001B[0m_hessian_update_strategy\u001B[0m \u001B[0;32mimport\u001B[0m \u001B[0mHessianUpdateStrategy\u001B[0m\u001B[0;34m,\u001B[0m \u001B[0mBFGS\u001B[0m\u001B[0;34m,\u001B[0m \u001B[0mSR1\u001B[0m\u001B[0;34m\u001B[0m\u001B[0;34m\u001B[0m\u001B[0m\n\u001B[0;32m--> 408\u001B[0;31m \u001B[0;32mfrom\u001B[0m \u001B[0;34m.\u001B[0m\u001B[0m_shgo\u001B[0m \u001B[0;32mimport\u001B[0m \u001B[0mshgo\u001B[0m\u001B[0;34m\u001B[0m\u001B[0;34m\u001B[0m\u001B[0m\n\u001B[0m\u001B[1;32m    409\u001B[0m \u001B[0;32mfrom\u001B[0m \u001B[0;34m.\u001B[0m\u001B[0m_dual_annealing\u001B[0m \u001B[0;32mimport\u001B[0m \u001B[0mdual_annealing\u001B[0m\u001B[0;34m\u001B[0m\u001B[0;34m\u001B[0m\u001B[0m\n\u001B[1;32m    410\u001B[0m \u001B[0;34m\u001B[0m\u001B[0m\n",
      "\u001B[0;32m/usr/lib64/python3.9/site-packages/scipy/optimize/_shgo.py\u001B[0m in \u001B[0;36m<module>\u001B[0;34m\u001B[0m\n\u001B[1;32m      7\u001B[0m \u001B[0;32mimport\u001B[0m \u001B[0mlogging\u001B[0m\u001B[0;34m\u001B[0m\u001B[0;34m\u001B[0m\u001B[0m\n\u001B[1;32m      8\u001B[0m \u001B[0;32mimport\u001B[0m \u001B[0mwarnings\u001B[0m\u001B[0;34m\u001B[0m\u001B[0;34m\u001B[0m\u001B[0m\n\u001B[0;32m----> 9\u001B[0;31m \u001B[0;32mfrom\u001B[0m \u001B[0mscipy\u001B[0m \u001B[0;32mimport\u001B[0m \u001B[0mspatial\u001B[0m\u001B[0;34m\u001B[0m\u001B[0;34m\u001B[0m\u001B[0m\n\u001B[0m\u001B[1;32m     10\u001B[0m \u001B[0;32mfrom\u001B[0m \u001B[0mscipy\u001B[0m\u001B[0;34m.\u001B[0m\u001B[0moptimize\u001B[0m \u001B[0;32mimport\u001B[0m \u001B[0mOptimizeResult\u001B[0m\u001B[0;34m,\u001B[0m \u001B[0mminimize\u001B[0m\u001B[0;34m\u001B[0m\u001B[0;34m\u001B[0m\u001B[0m\n\u001B[1;32m     11\u001B[0m \u001B[0;32mfrom\u001B[0m \u001B[0mscipy\u001B[0m\u001B[0;34m.\u001B[0m\u001B[0moptimize\u001B[0m\u001B[0;34m.\u001B[0m\u001B[0m_shgo_lib\u001B[0m \u001B[0;32mimport\u001B[0m \u001B[0msobol_seq\u001B[0m\u001B[0;34m\u001B[0m\u001B[0;34m\u001B[0m\u001B[0m\n",
      "\u001B[0;32m/usr/lib64/python3.9/site-packages/scipy/spatial/__init__.py\u001B[0m in \u001B[0;36m<module>\u001B[0;34m\u001B[0m\n\u001B[1;32m     96\u001B[0m \u001B[0;32mfrom\u001B[0m \u001B[0;34m.\u001B[0m\u001B[0mkdtree\u001B[0m \u001B[0;32mimport\u001B[0m \u001B[0;34m*\u001B[0m\u001B[0;34m\u001B[0m\u001B[0;34m\u001B[0m\u001B[0m\n\u001B[1;32m     97\u001B[0m \u001B[0;32mfrom\u001B[0m \u001B[0;34m.\u001B[0m\u001B[0mckdtree\u001B[0m \u001B[0;32mimport\u001B[0m \u001B[0;34m*\u001B[0m\u001B[0;34m\u001B[0m\u001B[0;34m\u001B[0m\u001B[0m\n\u001B[0;32m---> 98\u001B[0;31m \u001B[0;32mfrom\u001B[0m \u001B[0;34m.\u001B[0m\u001B[0mqhull\u001B[0m \u001B[0;32mimport\u001B[0m \u001B[0;34m*\u001B[0m\u001B[0;34m\u001B[0m\u001B[0;34m\u001B[0m\u001B[0m\n\u001B[0m\u001B[1;32m     99\u001B[0m \u001B[0;32mfrom\u001B[0m \u001B[0;34m.\u001B[0m\u001B[0m_spherical_voronoi\u001B[0m \u001B[0;32mimport\u001B[0m \u001B[0mSphericalVoronoi\u001B[0m\u001B[0;34m\u001B[0m\u001B[0;34m\u001B[0m\u001B[0m\n\u001B[1;32m    100\u001B[0m \u001B[0;32mfrom\u001B[0m \u001B[0;34m.\u001B[0m\u001B[0m_plotutils\u001B[0m \u001B[0;32mimport\u001B[0m \u001B[0;34m*\u001B[0m\u001B[0;34m\u001B[0m\u001B[0;34m\u001B[0m\u001B[0m\n",
      "\u001B[0;32mqhull.pyx\u001B[0m in \u001B[0;36minit scipy.spatial.qhull\u001B[0;34m()\u001B[0m\n",
      "\u001B[0;32m/usr/lib64/python3.9/importlib/_bootstrap.py\u001B[0m in \u001B[0;36m_handle_fromlist\u001B[0;34m(module, fromlist, import_, recursive)\u001B[0m\n",
      "\u001B[0;31mKeyboardInterrupt\u001B[0m: "
     ]
    }
   ],
   "source": [
    "from zxopt.visualization import Window\n",
    "\n",
    "window = Window()\n",
    "window.main_loop()\n"
   ]
  },
  {
   "cell_type": "markdown",
   "metadata": {
    "pycharm": {
     "name": "#%% md\n"
    }
   },
   "source": [
    "### OpenQASM"
   ]
  },
  {
   "cell_type": "code",
   "execution_count": null,
   "metadata": {
    "pycharm": {
     "name": "#%%\n"
    }
   },
   "outputs": [],
   "source": [
    "from zxopt.openqasm import OpenQasmParser\n",
    "\n",
    "parser = OpenQasmParser()\n",
    "circuit = parser.load_file(\"./circuits/bell_swap.qasm\")"
   ]
  },
  {
   "cell_type": "markdown",
   "metadata": {
    "pycharm": {
     "name": "#%% md\n"
    }
   },
   "source": [
    "### ZX-diagram\n"
   ]
  },
  {
   "cell_type": "code",
   "execution_count": null,
   "metadata": {
    "pycharm": {
     "name": "#%%\n"
    }
   },
   "outputs": [],
   "source": [
    "from zxopt.data_structures.diagram import Diagram\n",
    "from zxopt.visualization import DiagramRenderer\n",
    "import math\n",
    "\n",
    "diagram = Diagram()\n",
    "in1 = diagram.add_boundary(\"in\", 0)\n",
    "in2 = diagram.add_boundary(\"in\", 1)\n",
    "out1 = diagram.add_boundary(\"out\", 0)\n",
    "out2 = diagram.add_boundary(\"out\", 1)\n",
    "\n",
    "s1_1 = diagram.add_spider(0.0, \"green\", 0)\n",
    "s1_2 = diagram.add_spider(0.0, \"red\", 1)\n",
    "s2_1 = diagram.add_spider(math.pi, \"red\", 0)\n",
    "\n",
    "diagram.add_wire(in1, s1_1)\n",
    "diagram.add_wire(in2, s1_2)\n",
    "diagram.add_wire(s1_1, s1_2)\n",
    "diagram.add_wire(s1_1, s2_1)\n",
    "diagram.add_wire(s2_1, out1)\n",
    "diagram.add_wire(s1_2, out2)\n",
    "\n",
    "# diagram.render()\n",
    "diagram_renderer = DiagramRenderer(diagram)\n",
    "diagram_renderer.render_image()"
   ]
  },
  {
   "cell_type": "markdown",
   "metadata": {
    "pycharm": {
     "name": "#%% md\n"
    }
   },
   "source": [
    "### Circuit translation"
   ]
  },
  {
   "cell_type": "code",
   "execution_count": null,
   "metadata": {
    "pycharm": {
     "name": "#%%\n"
    }
   },
   "outputs": [],
   "source": [
    "from zxopt.translation import CircuitTranslator\n",
    "from zxopt.visualization import Window\n",
    "from zxopt.openqasm import OpenQasmParser\n",
    "from zxopt.visualization import DiagramRenderer\n",
    "\n",
    "circuit = OpenQasmParser().load_file(\"./circuits/test/simple_translation_test.qasm\")\n",
    "diagram = CircuitTranslator(circuit).translate()\n",
    "\n",
    "renderer = DiagramRenderer(diagram)\n",
    "# renderer = CircuitRenderer(circuit)\n",
    "\n",
    "window = Window(renderer)\n",
    "window.main_loop()"
   ]
  },
  {
   "cell_type": "markdown",
   "metadata": {
    "pycharm": {
     "name": "#%% md\n"
    }
   },
   "source": [
    "### Validation"
   ]
  },
  {
   "cell_type": "markdown",
   "metadata": {
    "pycharm": {
     "name": "#%% md\n"
    }
   },
   "source": [
    "#### Circuit"
   ]
  },
  {
   "cell_type": "code",
   "execution_count": null,
   "metadata": {
    "pycharm": {
     "name": "#%%\n"
    }
   },
   "outputs": [],
   "source": [
    "from zxopt.data_structures.circuit import Circuit, GateComponent, HadamardGateType, PauliXGateType\n",
    "from zxopt.data_structures.circuit.register.quantum_register import QuantumRegister\n",
    "from zxopt.visualization import CircuitRenderer\n",
    "from zxopt.validation import CircuitUnitaryExtractor, DiagramLinearExtractor\n",
    "from zxopt.visualization import DiagramRenderer\n",
    "from zxopt.openqasm import OpenQasmParser\n",
    "\n",
    "# circuit = Circuit()\n",
    "# qreg = QuantumRegister(2, \"q\")\n",
    "# circuit.add_register(qreg)\n",
    "# h = GateComponent(qreg[0], HadamardGateType())\n",
    "# cx = GateComponent(qreg[1], PauliXGateType(), control_bits={qreg[0]})\n",
    "# circuit.add_component(h)\n",
    "# circuit.add_component(cx)\n",
    "circuit = OpenQasmParser().load_file(\"circuits/test/bell_state_test_circuit.qasm\")\n",
    "\n",
    "renderer = CircuitRenderer(circuit)\n",
    "renderer.render_image()\n",
    "\n",
    "circuitValidator = CircuitUnitaryExtractor(circuit)\n",
    "circuitExtractedMatrix = circuitValidator.extract_matrix()\n"
   ]
  },
  {
   "cell_type": "markdown",
   "metadata": {
    "pycharm": {
     "name": "#%% md\n"
    }
   },
   "source": [
    "#### Validation tensor contraction"
   ]
  },
  {
   "cell_type": "code",
   "execution_count": null,
   "metadata": {
    "pycharm": {
     "name": "#%%\n"
    }
   },
   "outputs": [],
   "source": [
    "import tensornetwork as tn\n",
    "import math\n",
    "import numpy as np\n",
    "\n",
    "# represents same circuit as above\n",
    "H = math.sqrt(2) * np.array([[1,1],[1,-1]])\n",
    "Z3 = np.array([[[1,0],[0,0]],[[0,0],[0,1]]]) # alpha = 0\n",
    "A = H\n",
    "B = H\n",
    "C = Z3\n",
    "D = H\n",
    "E = Z3\n",
    "F = H\n",
    "\n",
    "linearMap = tn.ncon([A,B,C,D,E,F], [(-3, 1), (-4, 2), (1, -1, 3), (3,4), (2,4,5), (5,-2)])\n",
    "np.round(linearMap.reshape(4,4), decimals=5) # same as above scaled\n",
    "\n",
    "# dimension 1 and 2 are input, 3 and 4 are output (how to reshape correctly)\n",
    "# just swap dimension ids as input to ncon?\n"
   ]
  },
  {
   "cell_type": "markdown",
   "metadata": {
    "pycharm": {
     "name": "#%% md\n"
    }
   },
   "source": [
    "#### Diagram"
   ]
  },
  {
   "cell_type": "code",
   "execution_count": null,
   "metadata": {
    "pycharm": {
     "name": "#%%\n"
    }
   },
   "outputs": [],
   "source": [
    "from zxopt.translation import CircuitTranslator\n",
    "from zxopt.validation import DiagramLinearExtractor\n",
    "from zxopt.visualization import DiagramRenderer\n",
    "from zxopt.visualization import Window\n",
    "\n",
    "diagram = CircuitTranslator(circuit).translate()\n",
    "\n",
    "diagram_renderer = DiagramRenderer(diagram, disable_alignment=False)\n",
    "diagram_renderer.render_image()\n",
    "\n",
    "window = Window(diagram_renderer)\n",
    "window.main_loop()\n",
    "\n",
    "diagramValidator = DiagramLinearExtractor(diagram)\n",
    "diagramExtractedMatrix = np.round(diagramValidator.extract_matrix(), decimals=5)"
   ]
  },
  {
   "cell_type": "markdown",
   "metadata": {
    "pycharm": {
     "name": "#%% md\n"
    }
   },
   "source": [
    "#### Comparison"
   ]
  },
  {
   "cell_type": "code",
   "execution_count": null,
   "metadata": {
    "pycharm": {
     "name": "#%%\n"
    }
   },
   "outputs": [],
   "source": [
    "from zxopt.validation import validate_operation_equality\n",
    "import math\n",
    "\n",
    "print(circuitExtractedMatrix)\n",
    "print(diagramExtractedMatrix * np.exp(1j * math.pi / 4.0))\n",
    "print(\"Equality: \", validate_operation_equality(circuitExtractedMatrix, diagramExtractedMatrix))"
   ]
  },
  {
   "cell_type": "code",
   "execution_count": null,
   "metadata": {
    "pycharm": {
     "name": "#%%\n"
    }
   },
   "outputs": [],
   "source": []
  }
 ],
 "metadata": {
  "kernelspec": {
   "display_name": "zx-impl",
   "language": "python",
   "name": "zx-impl"
  },
  "language_info": {
   "codemirror_mode": {
    "name": "ipython",
    "version": 3
   },
   "file_extension": ".py",
   "mimetype": "text/x-python",
   "name": "python",
   "nbconvert_exporter": "python",
   "pygments_lexer": "ipython3",
   "version": "3.9.6"
  }
 },
 "nbformat": 4,
 "nbformat_minor": 4
}